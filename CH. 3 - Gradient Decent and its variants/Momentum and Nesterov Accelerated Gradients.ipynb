{
 "cells": [
  {
   "cell_type": "markdown",
   "metadata": {},
   "source": [
    "# Momentum and Nesterov Accelerated Gradients (NAG)"
   ]
  },
  {
   "cell_type": "code",
   "execution_count": 1,
   "metadata": {},
   "outputs": [
    {
     "name": "stdout",
     "output_type": "stream",
     "text": [
      "importing Jupyter notebook from compute_gradients.ipynb\n"
     ]
    }
   ],
   "source": [
    "import import_ipynb\n",
    "import compute_gradients\n",
    "import numpy as np\n",
    "import math\n",
    "import random\n",
    "\n",
    "# Prepare Dataset\n",
    "data = np.random.rand(500,2) # 500 rows and 2 columns\n",
    "\n",
    "# Initiliaze the weights and bias\n",
    "theta = np.zeros(2)"
   ]
  },
  {
   "cell_type": "code",
   "execution_count": 5,
   "metadata": {},
   "outputs": [
    {
     "data": {
      "text/plain": [
       "array([ 9.95575205e-06, -2.94822224e-07])"
      ]
     },
     "execution_count": 5,
     "metadata": {},
     "output_type": "execute_result"
    }
   ],
   "source": [
    "# Momentum based Gradients\n",
    "def momentum(data, theta, lr = 1e-2, gamma = 0.9, num_iterations = 1000):\n",
    "    \n",
    "    # Initialize vt (Fraction of parameter update from previous iterations)\n",
    "    vt = np.zeros(2)\n",
    "    \n",
    "    for t in range(num_iterations):\n",
    "        \n",
    "        gradients = compute_gradients.compute_gradients(data,theta)\n",
    "        # Update the vt in each iterations\n",
    "        vt = (gamma*vt) + (lr*gradients)\n",
    "        \n",
    "        # Update the model parameter\n",
    "        theta = theta - vt\n",
    "        \n",
    "        return theta\n",
    "    \n",
    "momentum(data,theta)"
   ]
  },
  {
   "cell_type": "code",
   "execution_count": 7,
   "metadata": {},
   "outputs": [
    {
     "data": {
      "text/plain": [
       "array([ 9.95575205e-06, -2.94822224e-07])"
      ]
     },
     "execution_count": 7,
     "metadata": {},
     "output_type": "execute_result"
    }
   ],
   "source": [
    "# Nesterov Accelerated Gradients (NAG)\n",
    "def NAG(data, theta, lr = 1e-2, gamma = 0.9, num_iterations = 1000):\n",
    "    \n",
    "    # Initialize vt (Fraction of parameter update from previous iterations)\n",
    "    vt = np.zeros(2)\n",
    "    \n",
    "    for t in range(num_iterations):\n",
    "        \n",
    "        gradients = compute_gradients.compute_gradients(data,theta - gamma*vt) # Lokahead position\n",
    "        # Update the vt in each iterations\n",
    "        vt = (gamma*vt) + (lr*gradients)\n",
    "        \n",
    "        # Update the model parameter\n",
    "        theta = theta - vt\n",
    "        \n",
    "        return theta\n",
    "    \n",
    "NAG(data,theta)"
   ]
  }
 ],
 "metadata": {
  "kernelspec": {
   "display_name": "Python 3",
   "language": "python",
   "name": "python3"
  },
  "language_info": {
   "codemirror_mode": {
    "name": "ipython",
    "version": 3
   },
   "file_extension": ".py",
   "mimetype": "text/x-python",
   "name": "python",
   "nbconvert_exporter": "python",
   "pygments_lexer": "ipython3",
   "version": "3.7.3"
  }
 },
 "nbformat": 4,
 "nbformat_minor": 2
}
