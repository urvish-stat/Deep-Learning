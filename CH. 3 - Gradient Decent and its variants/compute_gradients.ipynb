{
 "cells": [
  {
   "cell_type": "code",
   "execution_count": 1,
   "metadata": {},
   "outputs": [],
   "source": [
    "import numpy as np\n",
    "# Calculate the Gradients of Loss function\n",
    "def compute_gradients(data,theta):\n",
    "    global gradients\n",
    "    gradients = np.zeros(2)\n",
    "    N = len(data)\n",
    "    m = theta[0]\n",
    "    b = theta[1]\n",
    "    \n",
    "    for i in range(0,len(data)):\n",
    "        x = data[i,0]\n",
    "        y = data[i,1]\n",
    "        \n",
    "        # Gradients of loss with respect to m\n",
    "        gradients[0] += -(2/N) * x * (y - ((m*x) + b))\n",
    "        #Gradients of loss with respect to b\n",
    "        gradients[1] += -(2/N) * (y - ((theta[0] + x) + b))\n",
    "        \n",
    "    epsilon = 1e-6\n",
    "    gradients = np.divide(gradients, N+epsilon)\n",
    "        \n",
    "    return gradients\n"
   ]
  },
  {
   "cell_type": "code",
   "execution_count": null,
   "metadata": {},
   "outputs": [],
   "source": []
  }
 ],
 "metadata": {
  "kernelspec": {
   "display_name": "Python 3",
   "language": "python",
   "name": "python3"
  },
  "language_info": {
   "codemirror_mode": {
    "name": "ipython",
    "version": 3
   },
   "file_extension": ".py",
   "mimetype": "text/x-python",
   "name": "python",
   "nbconvert_exporter": "python",
   "pygments_lexer": "ipython3",
   "version": "3.7.3"
  }
 },
 "nbformat": 4,
 "nbformat_minor": 2
}
