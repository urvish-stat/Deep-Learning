{
 "cells": [
  {
   "cell_type": "markdown",
   "metadata": {},
   "source": [
    "# Stochastic and Mini-Batch Gradient Decent"
   ]
  },
  {
   "cell_type": "code",
   "execution_count": 6,
   "metadata": {},
   "outputs": [],
   "source": [
    "import import_ipynb\n",
    "import compute_gradients\n",
    "import numpy as np\n",
    "import math\n",
    "import random\n",
    "\n",
    "# Prepare Dataset\n",
    "data = np.random.rand(500,2) # 500 rows and 2 columns\n",
    "\n",
    "# Initiliaze the weights and bias\n",
    "theta = np.zeros(2)"
   ]
  },
  {
   "cell_type": "code",
   "execution_count": 5,
   "metadata": {},
   "outputs": [
    {
     "data": {
      "text/plain": [
       "array([ 0.01032916, -0.00182114])"
      ]
     },
     "execution_count": 5,
     "metadata": {},
     "output_type": "execute_result"
    }
   ],
   "source": [
    "def minibatch(data,theta,lr = 1e-2, minibatch_ratio = 0.01,num_iterations = 1000):\n",
    "    \n",
    "    # Get the minibatch size\n",
    "    minibatch_size = int(math.ceil(len(data) * minibatch_ratio))\n",
    "    \n",
    "    # Perform the minibatch operation\n",
    "    for i in range(num_iterations):\n",
    "        # Get the Sample Size for each training iterations\n",
    "        sample_size = random.sample(range(len(data)),minibatch_size)\n",
    "        np.random.shuffle(data)\n",
    "        \n",
    "        # Get the sample during each training iterations\n",
    "        sample = data[0:sample_size[0],:]\n",
    "        \n",
    "        # Compute the Gradients \n",
    "        grad = compute_gradients.compute_gradients(data,theta)\n",
    "        \n",
    "        # Update the weights\n",
    "        theta = theta - (lr*grad)\n",
    "        \n",
    "    return theta\n",
    "\n",
    "minibatch(data,theta)"
   ]
  }
 ],
 "metadata": {
  "kernelspec": {
   "display_name": "Python 3",
   "language": "python",
   "name": "python3"
  },
  "language_info": {
   "codemirror_mode": {
    "name": "ipython",
    "version": 3
   },
   "file_extension": ".py",
   "mimetype": "text/x-python",
   "name": "python",
   "nbconvert_exporter": "python",
   "pygments_lexer": "ipython3",
   "version": "3.7.3"
  }
 },
 "nbformat": 4,
 "nbformat_minor": 2
}
