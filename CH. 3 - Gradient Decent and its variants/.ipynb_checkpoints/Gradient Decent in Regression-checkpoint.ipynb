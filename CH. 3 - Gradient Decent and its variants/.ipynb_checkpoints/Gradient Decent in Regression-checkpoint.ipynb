{
 "cells": [
  {
   "cell_type": "markdown",
   "metadata": {},
   "source": [
    "# Performing Gradient Decent in Regression"
   ]
  },
  {
   "cell_type": "code",
   "execution_count": 1,
   "metadata": {},
   "outputs": [],
   "source": [
    "# Import required libraries\n",
    "import numpy as np\n",
    "import math \n",
    "import random\n",
    "from matplotlib import pyplot as plt\n",
    "%matplotlib inline"
   ]
  },
  {
   "cell_type": "code",
   "execution_count": 2,
   "metadata": {},
   "outputs": [
    {
     "name": "stdout",
     "output_type": "stream",
     "text": [
      "[0.01546705 0.96424419]\n",
      "[0. 0.]\n"
     ]
    }
   ],
   "source": [
    "# Prepare Dataset\n",
    "data = np.random.rand(500,2) # 500 rows and 2 columns\n",
    "print(data[5])\n",
    "\n",
    "# Initiliaze the weights and bias\n",
    "theta = np.zeros(2)\n",
    "print(theta)"
   ]
  },
  {
   "cell_type": "code",
   "execution_count": 9,
   "metadata": {},
   "outputs": [
    {
     "name": "stdout",
     "output_type": "stream",
     "text": [
      "0.28892757952035414\n"
     ]
    },
    {
     "data": {
      "text/plain": [
       "array([-0.00081836,  0.00042387])"
      ]
     },
     "execution_count": 9,
     "metadata": {},
     "output_type": "execute_result"
    }
   ],
   "source": [
    "# Defining the Loss Function\n",
    "def loss_function(data,theta):\n",
    "    global mse\n",
    "    # Initiliaze the weights and bias\n",
    "    m = theta[0]\n",
    "    b = theta[1]\n",
    "    loss = 0\n",
    "    # Iterate through all observations\n",
    "    for i in range(0,len(data)):\n",
    "        x = data[i,0]\n",
    "        y = data[i,1]\n",
    "        # predict the value of y_hat\n",
    "        y_hat = (m*x) + b\n",
    "        # Calculate the Loss (MSE)\n",
    "        loss = loss + ((y - (y_hat)) ** 2)\n",
    "    mse = loss / float(len(data))\n",
    "    return mse\n",
    "    \n",
    "loss_function(data,theta)\n",
    "print(mse)\n",
    "\n",
    "# Calculate the Gradients of Loss function\n",
    "def compute_gradients(data,theta):\n",
    "    global gradients\n",
    "    gradients = np.zeros(2)\n",
    "    N = len(data)\n",
    "    m = theta[0]\n",
    "    b = theta[1]\n",
    "    \n",
    "    for i in range(0,len(data)):\n",
    "        x = data[i,0]\n",
    "        y = data[i,1]\n",
    "        \n",
    "        # Gradients of loss with respect to m\n",
    "        gradients[0] += -(2/N) * x * (y - ((m*x) + b))\n",
    "        #Gradients of loss with respect to b\n",
    "        gradients[1] += -(2/N) * (y - ((theta[0] + x) + b))\n",
    "        \n",
    "    epsilon = 1e-6\n",
    "    gradients = np.divide(gradients, N+epsilon)\n",
    "        \n",
    "    return gradients\n",
    "    \n",
    "compute_gradients(data,theta)"
   ]
  },
  {
   "cell_type": "code",
   "execution_count": 12,
   "metadata": {},
   "outputs": [
    {
     "data": {
      "image/png": "[encoded data removed]",
      "text/plain": [
       "<Figure size 432x288 with 1 Axes>"
      ]
     },
     "metadata": {
      "needs_background": "light"
     },
     "output_type": "display_data"
    }
   ],
   "source": [
    "# Updating Model parameters\n",
    "num_iterations = 10000\n",
    "lr = 1e-2\n",
    "loss = []\n",
    "theta = np.zeros(2)\n",
    "for t in range(num_iterations):\n",
    "    # Compute Gradients\n",
    "    compute_gradients(data,theta)\n",
    "    \n",
    "    # Update the Model parameters\n",
    "    theta = theta - (lr*gradients)\n",
    "    \n",
    "    # Compute the Loss\n",
    "    loss.append(loss_function(data,theta))\n",
    "  \n",
    "plt.plot(loss)\n",
    "plt.grid()\n",
    "plt.xlabel(\"Training Iterations\")\n",
    "plt.ylabel(\"Cost\")\n",
    "plt.title(\"Gradient Decent\")\n",
    "plt.show()"
   ]
  },
  {
   "cell_type": "code",
   "execution_count": null,
   "metadata": {},
   "outputs": [],
   "source": []
  }
 ],
 "metadata": {
  "kernelspec": {
   "display_name": "Python 3",
   "language": "python",
   "name": "python3"
  },
  "language_info": {
   "codemirror_mode": {
    "name": "ipython",
    "version": 3
   },
   "file_extension": ".py",
   "mimetype": "text/x-python",
   "name": "python",
   "nbconvert_exporter": "python",
   "pygments_lexer": "ipython3",
   "version": "3.7.3"
  }
 },
 "nbformat": 4,
 "nbformat_minor": 2
}
