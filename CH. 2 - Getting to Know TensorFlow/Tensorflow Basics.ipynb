{
 "cells": [
  {
   "cell_type": "markdown",
   "metadata": {},
   "source": [
    "# TensorFlow Basics"
   ]
  },
  {
   "cell_type": "code",
   "execution_count": 1,
   "metadata": {},
   "outputs": [],
   "source": [
    "import tensorflow as tf"
   ]
  },
  {
   "cell_type": "code",
   "execution_count": 3,
   "metadata": {},
   "outputs": [
    {
     "name": "stdout",
     "output_type": "stream",
     "text": [
      "WARNING:tensorflow:From C:\\Users\\SONY\\Anaconda3\\lib\\site-packages\\tensorflow\\python\\compat\\v2_compat.py:63: disable_resource_variables (from tensorflow.python.ops.variable_scope) is deprecated and will be removed in a future version.\n",
      "Instructions for updating:\n",
      "non-resource variables are not supported in the long term\n",
      "9\n"
     ]
    }
   ],
   "source": [
    "# Sessions\n",
    "a = tf.multiply(3,3)\n",
    "with tf.Session() as sess:\n",
    "    print(sess.run(a))"
   ]
  },
  {
   "cell_type": "code",
   "execution_count": 4,
   "metadata": {},
   "outputs": [
    {
     "name": "stdout",
     "output_type": "stream",
     "text": [
      "WARNING:tensorflow:From <ipython-input-4-b102c2bc67ef>:4: Variable.initialized_value (from tensorflow.python.ops.variables) is deprecated and will be removed in a future version.\n",
      "Instructions for updating:\n",
      "Use Variable.read_value. Variables in 2.X are initialized automatically both in eager and graph (inside tf.defun) contexts.\n",
      "Variable X:  3\n",
      "Variable weights_1:  [[-0.09823573 -0.00955467  0.04234711 ...  0.27340695 -0.22734928\n",
      "  -0.5940604 ]\n",
      " [-0.14910468 -0.07785811  0.33285165 ...  0.25932157 -0.02369941\n",
      "   1.0753402 ]\n",
      " [-0.11416892  0.00799442  0.27050987 ... -0.3963375  -0.3440927\n",
      "   0.16967227]\n",
      " ...\n",
      " [ 0.28927383  0.24791059 -0.09831493 ... -0.13882408 -0.25766483\n",
      "   0.00237233]\n",
      " [-0.35448098  0.0489698  -0.17798486 ...  0.04753722  0.45603555\n",
      "  -0.27718905]\n",
      " [-0.043054   -0.3893176  -0.2911972  ...  0.19850838 -0.2880729\n",
      "  -0.68586427]]\n",
      "Variable weights_2:  [[-0.09823573 -0.00955467  0.04234711 ...  0.27340695 -0.22734928\n",
      "  -0.5940604 ]\n",
      " [-0.14910468 -0.07785811  0.33285165 ...  0.25932157 -0.02369941\n",
      "   1.0753402 ]\n",
      " [-0.11416892  0.00799442  0.27050987 ... -0.3963375  -0.3440927\n",
      "   0.16967227]\n",
      " ...\n",
      " [ 0.28927383  0.24791059 -0.09831493 ... -0.13882408 -0.25766483\n",
      "   0.00237233]\n",
      " [-0.35448098  0.0489698  -0.17798486 ...  0.04753722  0.45603555\n",
      "  -0.27718905]\n",
      " [-0.043054   -0.3893176  -0.2911972  ...  0.19850838 -0.2880729\n",
      "  -0.68586427]]\n"
     ]
    }
   ],
   "source": [
    "# Variables\n",
    "x = tf.Variable(3)\n",
    "W1 = tf.Variable(tf.random_normal([500,111],stddev = 0.35), name = \"weights_1\")\n",
    "W2 = tf.Variable(W1.initialized_value(), name = \"weights_2\")\n",
    "init = tf.global_variables_initializer()\n",
    "with tf.Session() as sess:\n",
    "    sess.run(init)\n",
    "    print(\"Variable X: \", sess.run(x))\n",
    "    print(\"Variable weights_1: \", sess.run(W1))\n",
    "    print(\"Variable weights_2: \", sess.run(W2))"
   ]
  },
  {
   "cell_type": "code",
   "execution_count": 5,
   "metadata": {},
   "outputs": [
    {
     "name": "stdout",
     "output_type": "stream",
     "text": [
      "Constant: 30\n"
     ]
    }
   ],
   "source": [
    "# Constants\n",
    "x = tf.constant(30)\n",
    "with tf.Session() as sess:\n",
    "    print(\"Constant:\", sess.run(x))"
   ]
  },
  {
   "cell_type": "code",
   "execution_count": 6,
   "metadata": {},
   "outputs": [
    {
     "name": "stdout",
     "output_type": "stream",
     "text": [
      "6.0\n",
      "[ 6.  9. 12.]\n"
     ]
    }
   ],
   "source": [
    "# Placeholders\n",
    "x = tf.placeholder(\"float\",None)\n",
    "y = x + 3\n",
    "with tf.Session() as sess:\n",
    "    result1 = sess.run(y, feed_dict = {x:3})\n",
    "    print(result1)\n",
    "    result2 = sess.run(y, feed_dict = {x:[3,6,9]})\n",
    "    print(result2)"
   ]
  },
  {
   "cell_type": "code",
   "execution_count": 7,
   "metadata": {},
   "outputs": [
    {
     "name": "stdout",
     "output_type": "stream",
     "text": [
      "10\n"
     ]
    }
   ],
   "source": [
    "# TensorBoard\n",
    "x = tf.constant(1, name = \"x\")\n",
    "y = tf.constant(1, name = \"y\")\n",
    "a = tf.constant(3, name = \"a\")\n",
    "b = tf.constant(3, name = \"b\")\n",
    "\n",
    "prod1 = tf.multiply(x,y, name = \"prod1\")\n",
    "prod2 = tf.multiply(a,b, name = \"prod2\")\n",
    "\n",
    "sum = tf.add(prod1, prod2, name = \"Sum\")\n",
    "\n",
    "with tf.Session() as sess:\n",
    "    writer = tf.summary.FileWriter(logdir = './graphs',\n",
    "                                  graph = sess.graph)\n",
    "    print(sess.run(sum))"
   ]
  },
  {
   "cell_type": "code",
   "execution_count": 23,
   "metadata": {},
   "outputs": [
    {
     "name": "stdout",
     "output_type": "stream",
     "text": [
      "10\n"
     ]
    }
   ],
   "source": [
    "# Name Scope\n",
    "with tf.name_scope(\"Product\"):\n",
    "    with tf.name_scope(\"prod1\"):\n",
    "        prod1 = tf.multiply(x,y, name = \"prod1\")\n",
    "    with tf.name_scope(\"prod2\"):\n",
    "        prod2 = tf.multiply(a,b, name = \"prod2\")\n",
    "        \n",
    "with tf.name_scope(\"Sum\"):\n",
    "    sum = tf.add(prod1, prod2, name = \"Sum\")\n",
    "\n",
    "with tf.Session() as sess:\n",
    "    print(sess.run(sum))"
   ]
  },
  {
   "cell_type": "code",
   "execution_count": null,
   "metadata": {},
   "outputs": [],
   "source": []
  }
 ],
 "metadata": {
  "kernelspec": {
   "display_name": "Python 3",
   "language": "python",
   "name": "python3"
  },
  "language_info": {
   "codemirror_mode": {
    "name": "ipython",
    "version": 3
   },
   "file_extension": ".py",
   "mimetype": "text/x-python",
   "name": "python",
   "nbconvert_exporter": "python",
   "pygments_lexer": "ipython3",
   "version": "3.7.3"
  }
 },
 "nbformat": 4,
 "nbformat_minor": 2
}
