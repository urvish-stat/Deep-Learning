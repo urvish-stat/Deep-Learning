{
 "cells": [
  {
   "cell_type": "markdown",
   "metadata": {},
   "source": [
    "# Handwritten Digit Classification using TensorFlow"
   ]
  },
  {
   "cell_type": "code",
   "execution_count": 1,
   "metadata": {},
   "outputs": [
    {
     "ename": "ModuleNotFoundError",
     "evalue": "No module named 'tensorflow.examples'",
     "output_type": "error",
     "traceback": [
      "\u001b[1;31m---------------------------------------------------------------------------\u001b[0m",
      "\u001b[1;31mModuleNotFoundError\u001b[0m                       Traceback (most recent call last)",
      "\u001b[1;32m<ipython-input-1-a0a46e266481>\u001b[0m in \u001b[0;36m<module>\u001b[1;34m\u001b[0m\n\u001b[0;32m      1\u001b[0m \u001b[1;31m# Importing required libraries\u001b[0m\u001b[1;33m\u001b[0m\u001b[1;33m\u001b[0m\u001b[1;33m\u001b[0m\u001b[0m\n\u001b[0;32m      2\u001b[0m \u001b[1;32mimport\u001b[0m \u001b[0mtensorflow\u001b[0m \u001b[1;32mas\u001b[0m \u001b[0mtf\u001b[0m\u001b[1;33m\u001b[0m\u001b[1;33m\u001b[0m\u001b[0m\n\u001b[1;32m----> 3\u001b[1;33m \u001b[1;32mfrom\u001b[0m \u001b[0mtensorflow\u001b[0m\u001b[1;33m.\u001b[0m\u001b[0mexamples\u001b[0m\u001b[1;33m.\u001b[0m\u001b[0mtutorials\u001b[0m\u001b[1;33m.\u001b[0m\u001b[0mmnist\u001b[0m \u001b[1;32mimport\u001b[0m \u001b[0minput_data\u001b[0m\u001b[1;33m\u001b[0m\u001b[1;33m\u001b[0m\u001b[0m\n\u001b[0m\u001b[0;32m      4\u001b[0m \u001b[1;32mimport\u001b[0m \u001b[0mmatplotlib\u001b[0m\u001b[1;33m.\u001b[0m\u001b[0mpyplot\u001b[0m \u001b[1;32mas\u001b[0m \u001b[0mplt\u001b[0m\u001b[1;33m\u001b[0m\u001b[1;33m\u001b[0m\u001b[0m\n\u001b[0;32m      5\u001b[0m \u001b[0mget_ipython\u001b[0m\u001b[1;33m(\u001b[0m\u001b[1;33m)\u001b[0m\u001b[1;33m.\u001b[0m\u001b[0mrun_line_magic\u001b[0m\u001b[1;33m(\u001b[0m\u001b[1;34m'matplotlib'\u001b[0m\u001b[1;33m,\u001b[0m \u001b[1;34m'inline'\u001b[0m\u001b[1;33m)\u001b[0m\u001b[1;33m\u001b[0m\u001b[1;33m\u001b[0m\u001b[0m\n",
      "\u001b[1;31mModuleNotFoundError\u001b[0m: No module named 'tensorflow.examples'"
     ]
    }
   ],
   "source": [
    "# Importing required libraries\n",
    "import tensorflow as tf\n",
    "from tensorflow.examples.tutorials.mnist import input_data\n",
    "import matplotlib.pyplot as plt\n",
    "%matplotlib inline"
   ]
  },
  {
   "cell_type": "code",
   "execution_count": 5,
   "metadata": {},
   "outputs": [
    {
     "name": "stdout",
     "output_type": "stream",
     "text": [
      "Extracting data/mnist\\train-images-idx3-ubyte.gz\n",
      "Extracting data/mnist\\train-labels-idx1-ubyte.gz\n",
      "Extracting data/mnist\\t10k-images-idx3-ubyte.gz\n",
      "Extracting data/mnist\\t10k-labels-idx1-ubyte.gz\n",
      "No. of Images in training set (55000, 784)\n",
      "No. of Labels in training set (55000, 10)\n",
      "No. of Images in test set (10000, 784)\n",
      "No. of Labels in test set (10000, 10)\n"
     ]
    }
   ],
   "source": [
    "# Loading the Dataset\n",
    "mnist = input_data.read_data_sets(\"data/mnist\",\n",
    "                                 one_hot = True)\n",
    "print(\"No. of Images in training set {}\" .format(mnist.train.images.shape))\n",
    "print(\"No. of Labels in training set {}\" .format(mnist.train.labels.shape))\n",
    "\n",
    "print(\"No. of Images in test set {}\" .format(mnist.test.images.shape))\n",
    "print(\"No. of Labels in test set {}\" .format(mnist.test.labels.shape))"
   ]
  },
  {
   "cell_type": "code",
   "execution_count": 6,
   "metadata": {},
   "outputs": [
    {
     "name": "stdout",
     "output_type": "stream",
     "text": [
      "Label for First Image:  [0. 0. 0. 0. 0. 0. 0. 1. 0. 0.]\n"
     ]
    },
    {
     "data": {
      "image/png": "[encoded data removed]",
      "text/plain": [
       "<Figure size 432x288 with 1 Axes>"
      ]
     },
     "metadata": {
      "needs_background": "light"
     },
     "output_type": "display_data"
    }
   ],
   "source": [
    "# Plot the image\n",
    "img1 = mnist.train.images[0].reshape(28,28)\n",
    "plt.title(\"Ploting First Image\")\n",
    "plt.imshow(img1)\n",
    "print(\"Label for First Image: \", mnist.train.labels[0]) # Due to One-Hot coding, label is 1 if the image is for 7 else 0"
   ]
  },
  {
   "cell_type": "code",
   "execution_count": 7,
   "metadata": {},
   "outputs": [
    {
     "name": "stdout",
     "output_type": "stream",
     "text": [
      "WARNING:tensorflow:From <ipython-input-7-3381f5626cdc>:41: softmax_cross_entropy_with_logits (from tensorflow.python.ops.nn_ops) is deprecated and will be removed in a future version.\n",
      "Instructions for updating:\n",
      "\n",
      "Future major versions of TensorFlow will allow gradients to flow\n",
      "into the labels input on backprop by default.\n",
      "\n",
      "See `tf.nn.softmax_cross_entropy_with_logits_v2`.\n",
      "\n"
     ]
    }
   ],
   "source": [
    "# Defining the number of Neurons in each layer\n",
    "num_input = 784 # Image Size\n",
    "num_hidden1 = 512\n",
    "num_hidden2 = 256\n",
    "num_hidden3 = 128\n",
    "num_output = 10 # Number ranges from 0 to 9\n",
    "\n",
    "# Defining the placeholder for Input and Output\n",
    "with tf.name_scope(\"input\"):\n",
    "    X = tf.placeholder(\"float\",[None,num_input])\n",
    "with tf.name_scope(\"output\"):\n",
    "    Y = tf.placeholder(\"float\",[None,num_output])\n",
    "    \n",
    "# Defining the placeholder for Weights and Biases\n",
    "with tf.name_scope(\"weights\"):\n",
    "    weights = {\"W1\":tf.Variable(tf.truncated_normal([num_input,num_hidden1],stddev = 0.1), name = \"weight_1\"),\n",
    "              \"W2\":tf.Variable(tf.truncated_normal([num_hidden1,num_hidden2],stddev = 0.1), name = \"weight_2\"),\n",
    "              \"W3\":tf.Variable(tf.truncated_normal([num_hidden2,num_hidden3],stddev = 0.1), name = \"weight_3\"),\n",
    "              \"W4\":tf.Variable(tf.truncated_normal([num_hidden3,num_output],stddev = 0.1), name = \"weight_4\")}\n",
    "    \n",
    "with tf.name_scope(\"biases\"):\n",
    "    biases = {\"b1\":tf.Variable(tf.constant(0.1, shape = [num_hidden1]), name = \"bias_1\"),\n",
    "             \"b2\":tf.Variable(tf.constant(0.1,shape = [num_hidden2]), name = \"bias_2\"),\n",
    "             \"b3\":tf.Variable(tf.constant(0.1,shape = [num_hidden3]), name = \"bias_3\"),\n",
    "             \"b4\":tf.Variable(tf.constant(0.1,shape = [num_output]), name = \"bias_4\")}\n",
    "    \n",
    "# Defining placeholder for Forward Propagation\n",
    "# ReLU Function for first three layer and Sigmoid Function for Output layer\n",
    "with tf.name_scope(\"Model\"):\n",
    "    with tf.name_scope(\"layer1\"):\n",
    "        layer_1 = tf.nn.relu(tf.add(tf.matmul(X, weights['W1']), biases['b1']))\n",
    "    with tf.name_scope(\"layer2\"):\n",
    "        layer_2 = tf.nn.relu(tf.add(tf.matmul(layer_1, weights['W2']), biases['b2']))\n",
    "    with tf.name_scope(\"layer3\"):\n",
    "        layer_3 = tf.nn.relu(tf.add(tf.matmul(layer_2, weights['W3']), biases['b3']))\n",
    "    with tf.name_scope(\"output_layer\"):\n",
    "        y_hat = tf.nn.sigmoid(tf.matmul(layer_3, weights['W4']) + biases['b4'])\n",
    "        \n",
    "# Defining the placeholder for Loss and Backpropagation\n",
    "with tf.name_scope(\"Loss\"):\n",
    "    loss = tf.reduce_mean(tf.nn.softmax_cross_entropy_with_logits(labels = Y, logits = y_hat))\n",
    "#     loss = tf.reduce_mean(-tf.reduce_sum(Y * tf.log(y_hat), reduction_indices=[1]))\n",
    "#     y_hat_softmax = tf.nn.softmax(y_hat)\n",
    "#     loss = tf.reduce_mean(-tf.reduce_sum(Y * tf.log(y_hat_softmax), [1]))\n",
    "    \n",
    "# Defind the Optimizer to optimize the weights in order to reduce the Loss\n",
    "# Use Adam Gradient Descent flavour\n",
    "learning_rate = 1e-4\n",
    "optimizer = tf.train.AdamOptimizer(learning_rate).minimize(loss)\n",
    "\n",
    "# Compute Accuracy\n",
    "with tf.name_scope(\"Accuracy\"):\n",
    "    predicted_digit = tf.argmax(y_hat,1)\n",
    "    actual_digit = tf.argmax(Y,1)\n",
    "    correct_pred = tf.equal(predicted_digit,actual_digit)\n",
    "    accuracy = tf.reduce_mean(tf.cast(correct_pred,tf.float32))\n",
    "    \n",
    "# Creating Summary\n",
    "tf.summary.scalar(\"Accuracy\",accuracy)\n",
    "tf.summary.scalar(\"Loss\",loss)\n",
    "merge_summary = tf.summary.merge_all()        "
   ]
  },
  {
   "cell_type": "code",
   "execution_count": 8,
   "metadata": {},
   "outputs": [
    {
     "name": "stdout",
     "output_type": "stream",
     "text": [
      "Iteration: 0, Loss: 2.326857566833496, Accuracy: 0.125\n",
      "Iteration: 100, Loss: 1.7414755821228027, Accuracy: 0.859375\n",
      "Iteration: 200, Loss: 1.6284838914871216, Accuracy: 0.890625\n",
      "Iteration: 300, Loss: 1.5774109363555908, Accuracy: 0.90625\n",
      "Iteration: 400, Loss: 1.5845731496810913, Accuracy: 0.90625\n",
      "Iteration: 500, Loss: 1.5581016540527344, Accuracy: 0.921875\n",
      "Iteration: 600, Loss: 1.5599150657653809, Accuracy: 0.9296875\n",
      "Iteration: 700, Loss: 1.5465670824050903, Accuracy: 0.921875\n",
      "Iteration: 800, Loss: 1.5236587524414062, Accuracy: 0.953125\n",
      "Iteration: 900, Loss: 1.5376360416412354, Accuracy: 0.9140625\n"
     ]
    }
   ],
   "source": [
    "# Training Model\n",
    "init = tf.global_variables_initializer()\n",
    "learning_rate = 1e-4\n",
    "num_iteration = 1000\n",
    "batch_size = 128\n",
    "\n",
    "with tf.Session() as sess:\n",
    "    sess.run(init)\n",
    "    summary_writer = tf.summary.FileWriter('./graphs',graph = sess.graph)\n",
    "    for i in range(num_iteration):\n",
    "        batch_x,batch_y = mnist.train.next_batch(batch_size)\n",
    "        sess.run(optimizer,feed_dict = {X:batch_x, Y:batch_y})\n",
    "        # Print Loss and Accuracy for every 100th iteration\n",
    "        if i % 100 == 0:\n",
    "            batch_loss,batch_accuracy,summary = sess.run([loss,accuracy,merge_summary], feed_dict = {X:batch_x, Y:batch_y})\n",
    "            # Store all summary\n",
    "            summary_writer.add_summary(summary,i)\n",
    "            print('Iteration: {}, Loss: {}, Accuracy: {}'.format(i,batch_loss,batch_accuracy))\n",
    "            "
   ]
  },
  {
   "cell_type": "code",
   "execution_count": null,
   "metadata": {},
   "outputs": [],
   "source": []
  }
 ],
 "metadata": {
  "kernelspec": {
   "display_name": "Python 3",
   "language": "python",
   "name": "python3"
  }
 },
 "nbformat": 4,
 "nbformat_minor": 2
}
