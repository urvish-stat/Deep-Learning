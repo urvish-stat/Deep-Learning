{
 "cells": [
  {
   "cell_type": "markdown",
   "metadata": {},
   "source": [
    "# Handwritten digit classification using Keras"
   ]
  },
  {
   "cell_type": "code",
   "execution_count": 35,
   "metadata": {},
   "outputs": [],
   "source": [
    "import tensorflow as tf\n",
    "import numpy as np\n",
    "import matplotlib.pyplot as plt"
   ]
  },
  {
   "cell_type": "code",
   "execution_count": 10,
   "metadata": {},
   "outputs": [],
   "source": [
    "# Load the MNIST dataset \n",
    "mnist = tf.keras.datasets.mnist\n",
    "\n",
    "# Create Training and Test sets\n",
    "(x_train,y_train), (x_test,y_test) = mnist.load_data()\n",
    "\n",
    "# Normalize the data by dividing their maximum values\n",
    "(x_train,x_test) = tf.cast(x_train/np.max(x_train),tf.float32), tf.cast(x_test/np.max(x_test),tf.float32)\n",
    "(y_train,y_test) = tf.cast(y_train,tf.int64), tf.cast(y_test,tf.int64)"
   ]
  },
  {
   "cell_type": "code",
   "execution_count": 11,
   "metadata": {},
   "outputs": [],
   "source": [
    "# Step - 1: Define the Model. Three layer Network\n",
    "model = tf.keras.models.Sequential()\n",
    "model.add(tf.keras.layers.Flatten())\n",
    "model.add(tf.keras.layers.Dense(256, activation = 'relu')) # Hidden Layer 1 with 256 neurons\n",
    "model.add(tf.keras.layers.Dense(128, activation = 'relu')) # Hidden Layer 2 with 128 neurons\n",
    "model.add(tf.keras.layers.Dense(10, activation = 'softmax')) # Output Layer with 10 neurons as Image number are bertween 0 to 9"
   ]
  },
  {
   "cell_type": "code",
   "execution_count": 12,
   "metadata": {},
   "outputs": [],
   "source": [
    "# Step - 2: Compile the Model by using Stocastic Gradient Decent\n",
    "model.compile(optimizer = 'sgd',\n",
    "             loss = 'sparse_categorical_crossentropy',\n",
    "             metrics = ['accuracy'])\n"
   ]
  },
  {
   "cell_type": "code",
   "execution_count": 17,
   "metadata": {},
   "outputs": [
    {
     "name": "stdout",
     "output_type": "stream",
     "text": [
      "Epoch 1/10\n",
      "60000/60000 [==============================] - 9s 151us/sample - loss: 0.2377 - accuracy: 0.9330\n",
      "Epoch 2/10\n",
      "60000/60000 [==============================] - 9s 149us/sample - loss: 0.2333 - accuracy: 0.9346\n",
      "Epoch 3/10\n",
      "60000/60000 [==============================] - 9s 152us/sample - loss: 0.2288 - accuracy: 0.9357\n",
      "Epoch 4/10\n",
      "60000/60000 [==============================] - 10s 167us/sample - loss: 0.2246 - accuracy: 0.9369\n",
      "Epoch 5/10\n",
      "60000/60000 [==============================] - 11s 180us/sample - loss: 0.2206 - accuracy: 0.9382\n",
      "Epoch 6/10\n",
      "60000/60000 [==============================] - 11s 186us/sample - loss: 0.2167 - accuracy: 0.9393\n",
      "Epoch 7/10\n",
      "60000/60000 [==============================] - 11s 186us/sample - loss: 0.2130 - accuracy: 0.9406\n",
      "Epoch 8/10\n",
      "60000/60000 [==============================] - 11s 187us/sample - loss: 0.2094 - accuracy: 0.9410\n",
      "Epoch 9/10\n",
      "60000/60000 [==============================] - 12s 193us/sample - loss: 0.2060 - accuracy: 0.9424\n",
      "Epoch 10/10\n",
      "60000/60000 [==============================] - 12s 194us/sample - loss: 0.2027 - accuracy: 0.9435\n"
     ]
    }
   ],
   "source": [
    "# Step - 3: Train the Model\n",
    "model.fit(x_train, y_train, batch_size = 32, epochs = 10)\n",
    "model.save(\"mnist-model.h5\")"
   ]
  },
  {
   "cell_type": "code",
   "execution_count": 18,
   "metadata": {},
   "outputs": [
    {
     "name": "stdout",
     "output_type": "stream",
     "text": [
      "10000/10000 [==============================] - 1s 93us/sample - loss: 0.1981 - accuracy: 0.9432\n"
     ]
    },
    {
     "data": {
      "text/plain": [
       "[0.19808800218105316, 0.9432]"
      ]
     },
     "execution_count": 18,
     "metadata": {},
     "output_type": "execute_result"
    }
   ],
   "source": [
    "# Evaluate the Model on Test set\n",
    "model.evaluate(x_test, y_test)"
   ]
  },
  {
   "cell_type": "code",
   "execution_count": 19,
   "metadata": {},
   "outputs": [],
   "source": [
    "# Load the Model Weights\n",
    "model.load_weights(\"mnist-model.h5\")"
   ]
  },
  {
   "cell_type": "code",
   "execution_count": 58,
   "metadata": {},
   "outputs": [
    {
     "name": "stdout",
     "output_type": "stream",
     "text": [
      "Actual Digit in Image:  tf.Tensor(5, shape=(), dtype=int64)\n"
     ]
    },
    {
     "data": {
      "image/png": "[encoded data removed]",
      "text/plain": [
       "<Figure size 432x288 with 1 Axes>"
      ]
     },
     "metadata": {
      "needs_background": "light"
     },
     "output_type": "display_data"
    },
    {
     "name": "stdout",
     "output_type": "stream",
     "text": [
      "Predicted Digit in Image:  5\n"
     ]
    }
   ],
   "source": [
    "# Predict the new Image\n",
    "img = x_test[120]\n",
    "test_img = tf.reshape(img,(1,784))\n",
    "img_class = model.predict_classes(test_img)\n",
    "prediction = img_class[0]\n",
    "classname = img_class[0]\n",
    "\n",
    "print(\"Actual Digit in Image: \", y_test[120])\n",
    "# Plot the Actual Image\n",
    "img = tf.reshape(img,(28,28))\n",
    "plt.imshow(img)\n",
    "plt.title(classname)\n",
    "plt.show()\n",
    "\n",
    "print(\"Predicted Digit in Image: \", classname)"
   ]
  },
  {
   "cell_type": "code",
   "execution_count": null,
   "metadata": {},
   "outputs": [],
   "source": []
  },
  {
   "cell_type": "code",
   "execution_count": null,
   "metadata": {},
   "outputs": [],
   "source": []
  }
 ],
 "metadata": {
  "kernelspec": {
   "display_name": "Python 3",
   "language": "python",
   "name": "python3"
  },
  "language_info": {
   "codemirror_mode": {
    "name": "ipython",
    "version": 3
   },
   "file_extension": ".py",
   "mimetype": "text/x-python",
   "name": "python",
   "nbconvert_exporter": "python",
   "pygments_lexer": "ipython3",
   "version": "3.7.3"
  }
 },
 "nbformat": 4,
 "nbformat_minor": 2
}
