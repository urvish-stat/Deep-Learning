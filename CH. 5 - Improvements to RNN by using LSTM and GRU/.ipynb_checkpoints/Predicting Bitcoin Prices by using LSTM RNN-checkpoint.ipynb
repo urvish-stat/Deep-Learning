{
 "cells": [
  {
   "cell_type": "markdown",
   "metadata": {},
   "source": [
    "# Bitcoin Price Prediction by using LSTM RNN"
   ]
  },
  {
   "cell_type": "code",
   "execution_count": 1,
   "metadata": {},
   "outputs": [
    {
     "name": "stdout",
     "output_type": "stream",
     "text": [
      "WARNING:tensorflow:From C:\\Users\\Urvish\\anaconda3\\lib\\site-packages\\tensorflow\\python\\compat\\v2_compat.py:96: disable_resource_variables (from tensorflow.python.ops.variable_scope) is deprecated and will be removed in a future version.\n",
      "Instructions for updating:\n",
      "non-resource variables are not supported in the long term\n"
     ]
    }
   ],
   "source": [
    "# Import the libraries\n",
    "import numpy as np\n",
    "import pandas as pd\n",
    "\n",
    "from sklearn.preprocessing import StandardScaler\n",
    "\n",
    "import tensorflow.compat.v1 as tf\n",
    "tf.disable_v2_behavior()\n",
    "\n",
    "import matplotlib.pyplot as plt"
   ]
  },
  {
   "cell_type": "code",
   "execution_count": 2,
   "metadata": {},
   "outputs": [
    {
     "data": {
      "text/html": [
       "<div>\n",
       "<style scoped>\n",
       "    .dataframe tbody tr th:only-of-type {\n",
       "        vertical-align: middle;\n",
       "    }\n",
       "\n",
       "    .dataframe tbody tr th {\n",
       "        vertical-align: top;\n",
       "    }\n",
       "\n",
       "    .dataframe thead th {\n",
       "        text-align: right;\n",
       "    }\n",
       "</style>\n",
       "<table border=\"1\" class=\"dataframe\">\n",
       "  <thead>\n",
       "    <tr style=\"text-align: right;\">\n",
       "      <th></th>\n",
       "      <th>Date</th>\n",
       "      <th>Symbol</th>\n",
       "      <th>Open</th>\n",
       "      <th>High</th>\n",
       "      <th>Low</th>\n",
       "      <th>Close</th>\n",
       "      <th>Volume From</th>\n",
       "      <th>Volume To</th>\n",
       "    </tr>\n",
       "  </thead>\n",
       "  <tbody>\n",
       "    <tr>\n",
       "      <th>0</th>\n",
       "      <td>5/26/2018</td>\n",
       "      <td>BTCUSD</td>\n",
       "      <td>7459.11</td>\n",
       "      <td>7640.46</td>\n",
       "      <td>7380.00</td>\n",
       "      <td>7520.00</td>\n",
       "      <td>2722.80</td>\n",
       "      <td>2.042265e+07</td>\n",
       "    </tr>\n",
       "    <tr>\n",
       "      <th>1</th>\n",
       "      <td>5/25/2018</td>\n",
       "      <td>BTCUSD</td>\n",
       "      <td>7584.15</td>\n",
       "      <td>7661.85</td>\n",
       "      <td>7326.94</td>\n",
       "      <td>7459.11</td>\n",
       "      <td>8491.93</td>\n",
       "      <td>6.342069e+07</td>\n",
       "    </tr>\n",
       "    <tr>\n",
       "      <th>2</th>\n",
       "      <td>5/24/2018</td>\n",
       "      <td>BTCUSD</td>\n",
       "      <td>7505.00</td>\n",
       "      <td>7734.99</td>\n",
       "      <td>7269.00</td>\n",
       "      <td>7584.15</td>\n",
       "      <td>11033.72</td>\n",
       "      <td>8.293137e+07</td>\n",
       "    </tr>\n",
       "    <tr>\n",
       "      <th>3</th>\n",
       "      <td>5/23/2018</td>\n",
       "      <td>BTCUSD</td>\n",
       "      <td>7987.70</td>\n",
       "      <td>8030.00</td>\n",
       "      <td>7433.19</td>\n",
       "      <td>7505.00</td>\n",
       "      <td>14905.99</td>\n",
       "      <td>1.148104e+08</td>\n",
       "    </tr>\n",
       "    <tr>\n",
       "      <th>4</th>\n",
       "      <td>5/22/2018</td>\n",
       "      <td>BTCUSD</td>\n",
       "      <td>8393.44</td>\n",
       "      <td>8400.00</td>\n",
       "      <td>7950.00</td>\n",
       "      <td>7987.70</td>\n",
       "      <td>6589.43</td>\n",
       "      <td>5.389753e+07</td>\n",
       "    </tr>\n",
       "  </tbody>\n",
       "</table>\n",
       "</div>"
      ],
      "text/plain": [
       "        Date  Symbol     Open     High      Low    Close  Volume From  \\\n",
       "0  5/26/2018  BTCUSD  7459.11  7640.46  7380.00  7520.00      2722.80   \n",
       "1  5/25/2018  BTCUSD  7584.15  7661.85  7326.94  7459.11      8491.93   \n",
       "2  5/24/2018  BTCUSD  7505.00  7734.99  7269.00  7584.15     11033.72   \n",
       "3  5/23/2018  BTCUSD  7987.70  8030.00  7433.19  7505.00     14905.99   \n",
       "4  5/22/2018  BTCUSD  8393.44  8400.00  7950.00  7987.70      6589.43   \n",
       "\n",
       "      Volume To  \n",
       "0  2.042265e+07  \n",
       "1  6.342069e+07  \n",
       "2  8.293137e+07  \n",
       "3  1.148104e+08  \n",
       "4  5.389753e+07  "
      ]
     },
     "execution_count": 2,
     "metadata": {},
     "output_type": "execute_result"
    }
   ],
   "source": [
    "# Get the Bitcoin Data\n",
    "df = pd.read_csv(\"./btc.csv\")\n",
    "df.head()"
   ]
  },
  {
   "cell_type": "code",
   "execution_count": 3,
   "metadata": {},
   "outputs": [
    {
     "name": "stdout",
     "output_type": "stream",
     "text": [
      "[7520.   7459.11 7584.15 ...  378.    378.    370.  ]\n"
     ]
    }
   ],
   "source": [
    "# Get the closing price in array form\n",
    "data = df['Close'].values\n",
    "print(data)"
   ]
  },
  {
   "cell_type": "code",
   "execution_count": 4,
   "metadata": {},
   "outputs": [
    {
     "name": "stdout",
     "output_type": "stream",
     "text": [
      "[[ 1.32443891]\n",
      " [ 1.30836052]\n",
      " [ 1.34137813]\n",
      " ...\n",
      " [-0.56145134]\n",
      " [-0.56145134]\n",
      " [-0.56356379]]\n"
     ]
    }
   ],
   "source": [
    "# Standardize the data and bring it to the same scale\n",
    "scaler = StandardScaler()\n",
    "data = scaler.fit_transform(data.reshape(-1,1))\n",
    "print(data)"
   ]
  },
  {
   "cell_type": "code",
   "execution_count": 5,
   "metadata": {},
   "outputs": [
    {
     "data": {
      "image/png": "[encoded data removed]",
      "text/plain": [
       "<Figure size 432x288 with 1 Axes>"
      ]
     },
     "metadata": {
      "needs_background": "light"
     },
     "output_type": "display_data"
    }
   ],
   "source": [
    "# Plot the data and see the trend\n",
    "plt.plot(data)\n",
    "plt.xlabel('Days')\n",
    "plt.ylabel('Price')\n",
    "plt.grid()"
   ]
  },
  {
   "cell_type": "code",
   "execution_count": 6,
   "metadata": {},
   "outputs": [],
   "source": [
    "# Pepare the Input and Target pairs\n",
    "def get_data(data,window_size):    \n",
    "    \n",
    "    X = []\n",
    "    y = []\n",
    "    i = 0\n",
    "    \n",
    "    while (i+window_size) <= len(data)-1:        \n",
    "        \n",
    "        X.append(data[i:i+window_size])\n",
    "        y.append(data[i+window_size])\n",
    "        \n",
    "        i += 1\n",
    "        \n",
    "    assert len(X) == len(y)\n",
    "    return X,y\n",
    "    \n",
    "X,y = get_data(data, window_size = 7)"
   ]
  },
  {
   "cell_type": "code",
   "execution_count": 7,
   "metadata": {},
   "outputs": [
    {
     "name": "stdout",
     "output_type": "stream",
     "text": [
      "(1000, 7, 1)\n",
      "(1000, 1)\n"
     ]
    }
   ],
   "source": [
    "# Training Set\n",
    "X_train = np.array(X[:1000])\n",
    "y_train = np.array(y[:1000])\n",
    "\n",
    "# Test Set\n",
    "X_test = np.array(X[1000:])\n",
    "y_test = np.array(y[1000:])\n",
    "\n",
    "print(X_train.shape)\n",
    "print(y_train.shape)"
   ]
  },
  {
   "cell_type": "code",
   "execution_count": 8,
   "metadata": {},
   "outputs": [],
   "source": [
    "# Defining the Network Parameters\n",
    "batch_size = 7\n",
    "window_size = 7\n",
    "hidden_layer = 256\n",
    "learning_rate = 0.001"
   ]
  },
  {
   "cell_type": "code",
   "execution_count": 9,
   "metadata": {},
   "outputs": [],
   "source": [
    "# Defining the Placeholders for Input and Target pairs\n",
    "input = tf.placeholder(dtype = tf.float32, shape = [batch_size,window_size,1])\n",
    "target = tf.placeholder(dtype = tf.float32, shape = [batch_size,1])"
   ]
  },
  {
   "cell_type": "code",
   "execution_count": 10,
   "metadata": {},
   "outputs": [],
   "source": [
    "# Define the weights for Input gate\n",
    "U_i = tf.Variable(tf.truncated_normal(shape = [1, hidden_layer], stddev = 0.05))\n",
    "W_i = tf.Variable(tf.truncated_normal(shape = [hidden_layer, hidden_layer], stddev = 0.05))\n",
    "b_i = tf.Variable(tf.zeros([hidden_layer]))\n",
    "\n",
    "# Define the weights for Forget gate\n",
    "U_f = tf.Variable(tf.truncated_normal([1, hidden_layer], stddev = 0.05))\n",
    "W_f = tf.Variable(tf.truncated_normal([hidden_layer, hidden_layer], stddev = 0.05))\n",
    "b_f = tf.Variable(tf.zeros([hidden_layer]))\n",
    "\n",
    "# Define the weights for Output gate\n",
    "U_o = tf.Variable(tf.truncated_normal([1, hidden_layer], stddev = 0.05))\n",
    "W_o = tf.Variable(tf.truncated_normal([hidden_layer, hidden_layer], stddev = 0.05))\n",
    "b_o = tf.Variable(tf.zeros([hidden_layer]))\n",
    "\n",
    "# Define the weights for Candidate State\n",
    "U_g = tf.Variable(tf.truncated_normal([1, hidden_layer], stddev = 0.05))\n",
    "W_g = tf.Variable(tf.truncated_normal([hidden_layer, hidden_layer], stddev = 0.05))\n",
    "b_g = tf.Variable(tf.zeros([hidden_layer]))\n",
    "\n",
    "# Output Layer weight\n",
    "V = tf.Variable(tf.truncated_normal([hidden_layer,1], stddev = 0.05))\n",
    "b_v = tf.Variable(tf.zeros([1]))"
   ]
  },
  {
   "cell_type": "code",
   "execution_count": 11,
   "metadata": {},
   "outputs": [],
   "source": [
    "# Define the LSTM Cell\n",
    "def LSTM_cell(input, prev_cell_state, prev_hidden_state):\n",
    "    \n",
    "    # Calculate Input Gate at time step t\n",
    "    it = tf.sigmoid(tf.matmul(input, U_i) + tf.matmul(prev_hidden_state, W_i) + b_i)\n",
    "    \n",
    "    # Calculate Forget Gate at time step t\n",
    "    ft = tf.sigmoid(tf.matmul(input, U_f) + tf.matmul(prev_hidden_state, W_f) + b_f)\n",
    "    \n",
    "    # Calculate Output Gate at time step t\n",
    "    ot = tf.sigmoid(tf.matmul(input, U_o) + tf.matmul(prev_hidden_state, W_o) + b_o)\n",
    "    \n",
    "    # Calculate Candidate State at time step t\n",
    "    gt = tf.tanh(tf.matmul(input, U_g) + tf.matmul(prev_hidden_state, W_g) + b_g)\n",
    "    \n",
    "    # Calculate the Cell State at time step t\n",
    "    ct = (prev_cell_state * ft) + (it * gt)\n",
    "    \n",
    "    # Calculate the Hidden State at time step t\n",
    "    ht = ot * tf.tanh(ct)\n",
    "    \n",
    "    return ct,ht"
   ]
  },
  {
   "cell_type": "code",
   "execution_count": 12,
   "metadata": {},
   "outputs": [],
   "source": [
    "# Forward Propagation for LSTM RNN Model\n",
    "y_hat = []\n",
    "\n",
    "# For each batch, compute the predicted value\n",
    "for i in range(batch_size):\n",
    "    \n",
    "    # Initiliaze the Cell state and Hidden state for each batch\n",
    "    hidden_state = tf.zeros([1,hidden_layer], dtype = tf.float32)\n",
    "    cell_state = tf.zeros([1,hidden_layer], dtype = tf.float32)\n",
    "    \n",
    "    # Compute the Cell state and Hidden state of LSTM cell for each time step\n",
    "    for t in range(window_size):\n",
    "        cell_state, hidden_state = LSTM_cell(tf.reshape(input[i][t], (-1,1)), hidden_state, cell_state)\n",
    "        \n",
    "    # Compute the y_hat and append it to list\n",
    "    y_hat.append(tf.matmul(hidden_state,V) + b_v)"
   ]
  },
  {
   "cell_type": "code",
   "execution_count": 13,
   "metadata": {},
   "outputs": [],
   "source": [
    "# Define the Backpropogation in LSTM\n",
    "losses = []\n",
    "\n",
    "for i in range(len(y_hat)):\n",
    "    losses.append(tf.losses.mean_squared_error(tf.reshape(target[i], (-1,1)), y_hat[i]))\n",
    "loss = tf.reduce_mean(losses)"
   ]
  },
  {
   "cell_type": "code",
   "execution_count": 14,
   "metadata": {},
   "outputs": [],
   "source": [
    "# Avoid exploding gradient problem\n",
    "gradients = tf.gradients(loss, tf.trainable_variables())\n",
    "clipped, _ = tf.clip_by_global_norm(gradients, 4.0)\n",
    "\n",
    "optimizer = tf.train.AdamOptimizer(learning_rate).apply_gradients(zip(gradients, tf.trainable_variables()))"
   ]
  },
  {
   "cell_type": "code",
   "execution_count": 15,
   "metadata": {},
   "outputs": [],
   "source": [
    "# Train the LSTM Model\n",
    "session = tf.Session()\n",
    "session.run(tf.global_variables_initializer())\n",
    "epochs = 100"
   ]
  },
  {
   "cell_type": "code",
   "execution_count": 16,
   "metadata": {},
   "outputs": [
    {
     "name": "stdout",
     "output_type": "stream",
     "text": [
      "Epoch 0, Loss 0.23330076038837433 \n",
      "Epoch 10, Loss 0.14995911717414856 \n",
      "Epoch 20, Loss 0.10217764228582382 \n",
      "Epoch 30, Loss 0.025488438084721565 \n",
      "Epoch 40, Loss 0.015828851610422134 \n",
      "Epoch 50, Loss 0.014883825555443764 \n",
      "Epoch 60, Loss 0.008099748753011227 \n",
      "Epoch 70, Loss 0.007504458073526621 \n",
      "Epoch 80, Loss 0.00677191186696291 \n",
      "Epoch 90, Loss 0.007940697483718395 \n"
     ]
    }
   ],
   "source": [
    "for i in range(epochs):\n",
    "    train_predictions = []\n",
    "    index = 0\n",
    "    epoch_loss = []\n",
    "    \n",
    "    # Sample batch of data and train the model in each epoch\n",
    "    while index+batch_size <= len(X_train):\n",
    "        \n",
    "        # Sample batch of data\n",
    "        X_batch = X_train[index:index+batch_size]\n",
    "        y_batch = y_train[index:index+batch_size]\n",
    "        \n",
    "        # Predict the price and compute the loss\n",
    "        predicted,loss_val,_ = session.run([y_hat,loss,optimizer], feed_dict = {input:X_batch, target:y_batch})\n",
    "        \n",
    "        # Store the loss\n",
    "        epoch_loss.append(loss_val)\n",
    "        \n",
    "        # Store the prediction\n",
    "        train_predictions.append(predicted)\n",
    "        \n",
    "        # Increment the index\n",
    "        index += batch_size\n",
    "        \n",
    "    # Print the loss on every 10th iterations/epoch\n",
    "    if i % 10 == 0:\n",
    "        print('Epoch {}, Loss {} '.format(i,np.mean(epoch_loss)))\n",
    "    "
   ]
  },
  {
   "cell_type": "code",
   "execution_count": 25,
   "metadata": {},
   "outputs": [
    {
     "data": {
      "text/plain": [
       "[array([[-0.60881543]], dtype=float32),\n",
       " array([[-0.6069081]], dtype=float32),\n",
       " array([[-0.606699]], dtype=float32),\n",
       " array([[-0.60630244]], dtype=float32),\n",
       " array([[-0.60604537]], dtype=float32),\n",
       " array([[-0.60708445]], dtype=float32),\n",
       " array([[-0.6045911]], dtype=float32)]"
      ]
     },
     "execution_count": 25,
     "metadata": {},
     "output_type": "execute_result"
    }
   ],
   "source": [
    "# Making predictions by using LSTM Model\n",
    "i = 0\n",
    "predicted_output = []\n",
    "\n",
    "while i+batch_size <= len(X_test):\n",
    "    \n",
    "    output = session.run([y_hat], feed_dict = {input: X_test[i:i+batch_size]})\n",
    "    predicted_output.append(output)\n",
    "    i += batch_size\n",
    "predicted_output[0][0]"
   ]
  },
  {
   "cell_type": "code",
   "execution_count": 43,
   "metadata": {},
   "outputs": [
    {
     "name": "stdout",
     "output_type": "stream",
     "text": [
      "266\n"
     ]
    }
   ],
   "source": [
    "# Let's flatten the output\n",
    "predicted_values_test = []\n",
    "for i in range(len(predicted_output)):\n",
    "    for j in range(len(predicted_output[i][0])):\n",
    "        predicted_values_test.append(predicted_output[i][0][j])\n",
    "predicted_values_test[0]\n",
    "print(len(predicted_values_test))"
   ]
  },
  {
   "cell_type": "code",
   "execution_count": 51,
   "metadata": {},
   "outputs": [
    {
     "name": "stdout",
     "output_type": "stream",
     "text": [
      "1280\n"
     ]
    }
   ],
   "source": [
    "predictions = []\n",
    "for i in range(1280):\n",
    "    if i >= 1000:\n",
    "        predictions.append(predicted_values_test[i-1019])\n",
    "    else:\n",
    "        predictions.append(None)\n",
    "print(len(predictions))"
   ]
  },
  {
   "cell_type": "code",
   "execution_count": 52,
   "metadata": {},
   "outputs": [
    {
     "data": {
      "image/png": "[encoded data removed]",
      "text/plain": [
       "<Figure size 1152x504 with 1 Axes>"
      ]
     },
     "metadata": {
      "needs_background": "light"
     },
     "output_type": "display_data"
    }
   ],
   "source": [
    "# Plot the Actual and Predicted values\n",
    "plt.figure(figsize = (16,7))\n",
    "plt.plot(data, label = 'Actual')\n",
    "plt.plot(predictions, label = 'Predicted')\n",
    "plt.legend()\n",
    "plt.xlabel('Days')\n",
    "plt.ylabel('Price')\n",
    "plt.grid()\n",
    "plt.show()"
   ]
  },
  {
   "cell_type": "code",
   "execution_count": null,
   "metadata": {},
   "outputs": [],
   "source": [
    "t = [1, 2, 3, 4]\n",
    "print(tf.reshape(t, [-1,1]))\n",
    "sess = tf.Session()\n",
    "init = tf.global_variables_initializer()\n",
    "sess.run(init)\n",
    "test = sess.run([input], feed_dict = {input:X_train[0:7]})\n",
    "# print(test)\n",
    "print(\"X\",X_train[0:7],\"Y\",y_train[0:7])"
   ]
  }
 ],
 "metadata": {
  "kernelspec": {
   "display_name": "Python 3",
   "language": "python",
   "name": "python3"
  },
  "language_info": {
   "codemirror_mode": {
    "name": "ipython",
    "version": 3
   },
   "file_extension": ".py",
   "mimetype": "text/x-python",
   "name": "python",
   "nbconvert_exporter": "python",
   "pygments_lexer": "ipython3",
   "version": "3.7.6"
  }
 },
 "nbformat": 4,
 "nbformat_minor": 4
}
