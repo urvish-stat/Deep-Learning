{
 "cells": [
  {
   "cell_type": "markdown",
   "metadata": {},
   "source": [
    "# Artificial Neural Network from Scratch"
   ]
  },
  {
   "cell_type": "code",
   "execution_count": 1,
   "metadata": {},
   "outputs": [
    {
     "name": "stdout",
     "output_type": "stream",
     "text": [
      "importing Jupyter notebook from Activation_Functions.ipynb\n"
     ]
    }
   ],
   "source": [
    "# Import the libraries\n",
    "import import_ipynb\n",
    "import Activation_Functions\n",
    "import numpy as np\n",
    "import matplotlib.pyplot as plt\n",
    "%matplotlib inline"
   ]
  },
  {
   "cell_type": "code",
   "execution_count": 3,
   "metadata": {},
   "outputs": [],
   "source": [
    "# Prepare the data (XOR gate operation)\n",
    "X = np.array([[0,1],[1,0],[1,1],[0,0]])\n",
    "Y = np.array([[1],[1],[0],[0]])"
   ]
  },
  {
   "cell_type": "code",
   "execution_count": 4,
   "metadata": {},
   "outputs": [],
   "source": [
    "# Number of nodes in each layer\n",
    "num_input = 2\n",
    "num_hidden = 5\n",
    "num_output = 1"
   ]
  },
  {
   "cell_type": "code",
   "execution_count": 37,
   "metadata": {},
   "outputs": [
    {
     "name": "stdout",
     "output_type": "stream",
     "text": [
      "[[-1.2897378 ]\n",
      " [ 1.56940065]\n",
      " [-0.37061367]\n",
      " [ 1.30585203]\n",
      " [-0.13757872]]\n"
     ]
    }
   ],
   "source": [
    "# Initialize the weights (Input to Hidden Layer Weights and Hidden to Output Layer Weights)\n",
    "Wxh = np.random.randn(num_input,num_hidden)\n",
    "bh = np.zeros((1,num_hidden))\n",
    "Why = np.random.randn(num_hidden,num_output)\n",
    "by = np.zeros((1,num_output))"
   ]
  },
  {
   "cell_type": "code",
   "execution_count": 30,
   "metadata": {},
   "outputs": [],
   "source": [
    "# Define the Forward and Backward Propogation\n",
    "def forward_prop(X,Wxh,Why):\n",
    "    z1 = np.dot(X,Wxh) + bh\n",
    "    a1 = Activation_Functions.sigmoid(z1)\n",
    "    z2 = np.dot(a1,Why) + by\n",
    "    y_hat = Activation_Functions.sigmoid(z2)\n",
    "    return z1,a1,z2,y_hat\n",
    "\n",
    "def backward_prop(y_hat,z1,a1,z2):\n",
    "    delta2 = np.multiply(-(Y-y_hat),Activation_Functions.sigmoid_derivative(z2))\n",
    "    dJ_dWhy = np.dot(a1.T,delta2)\n",
    "    delta1 = np.dot(delta2,Why.T)*Activation_Functions.sigmoid_derivative(z1)\n",
    "    dJ_dWxh = np.dot(X.T,delta1)\n",
    "    return dJ_dWxh,dJ_dWhy"
   ]
  },
  {
   "cell_type": "code",
   "execution_count": 31,
   "metadata": {},
   "outputs": [],
   "source": [
    "# Defind the Cost Function\n",
    "def cost_function(y,y_hat):\n",
    "    J = 0.5*(np.sum(y-y_hat)**2)\n",
    "    return J"
   ]
  },
  {
   "cell_type": "code",
   "execution_count": 44,
   "metadata": {},
   "outputs": [],
   "source": [
    "# Training the network\n",
    "alpha = 0.01\n",
    "num_iteration = 5000\n",
    "cost = []\n",
    "for i in range(num_iteration):\n",
    "    z1,a1,z2,y_hat = forward_prop(X,Wxh,Why)\n",
    "    dJ_dWxh,dJ_dWhy = backward_prop(y_hat,z1,a1,z2)  \n",
    "    \n",
    "    # Updte the weights\n",
    "    Wxh = Wxh - alpha*dJ_dWxh\n",
    "    Why = Why - alpha*dJ_dWhy\n",
    "   \n",
    "    # Compute the Loss\n",
    "    c = cost_function(Y,y_hat)\n",
    "    \n",
    "    cost.append(c)"
   ]
  },
  {
   "cell_type": "code",
   "execution_count": 45,
   "metadata": {},
   "outputs": [
    {
     "data": {
      "text/plain": [
       "Text(0, 0.5, 'Cost')"
      ]
     },
     "execution_count": 45,
     "metadata": {},
     "output_type": "execute_result"
    },
    {
     "data": {
      "image/png": "[encoded data removed]",
      "text/plain": [
       "<Figure size 432x288 with 1 Axes>"
      ]
     },
     "metadata": {
      "needs_background": "light"
     },
     "output_type": "display_data"
    }
   ],
   "source": [
    "# Plot the cost function\n",
    "plt.grid()\n",
    "plt.plot(range(num_iteration),cost)\n",
    "plt.title(\"Cost Function\")\n",
    "plt.xlabel(\"Training Iteration\")\n",
    "plt.ylabel(\"Cost\")"
   ]
  },
  {
   "cell_type": "code",
   "execution_count": null,
   "metadata": {},
   "outputs": [],
   "source": []
  }
 ],
 "metadata": {
  "kernelspec": {
   "display_name": "Python 3",
   "language": "python",
   "name": "python3"
  },
  "language_info": {
   "codemirror_mode": {
    "name": "ipython",
    "version": 3
   },
   "file_extension": ".py",
   "mimetype": "text/x-python",
   "name": "python",
   "nbconvert_exporter": "python",
   "pygments_lexer": "ipython3",
   "version": "3.7.3"
  }
 },
 "nbformat": 4,
 "nbformat_minor": 2
}
