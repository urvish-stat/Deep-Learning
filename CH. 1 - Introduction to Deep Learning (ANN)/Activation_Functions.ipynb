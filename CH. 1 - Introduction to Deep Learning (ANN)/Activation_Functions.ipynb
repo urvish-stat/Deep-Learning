{
 "cells": [
  {
   "cell_type": "markdown",
   "metadata": {},
   "source": [
    "\n",
    "# Activation Functions\n"
   ]
  },
  {
   "cell_type": "code",
   "execution_count": 1,
   "metadata": {},
   "outputs": [],
   "source": [
    "import numpy as np"
   ]
  },
  {
   "cell_type": "code",
   "execution_count": 1,
   "metadata": {},
   "outputs": [],
   "source": [
    "# Sigmoid Function\n",
    "def sigmoid(x):\n",
    "    return 1/1+np.exp(-x)\n",
    "\n",
    "# Sigmoid Derivative\n",
    "def sigmoid_derivative(z):\n",
    "    return np.exp(-z)/((1+np.exp(-z))**2)\n",
    "\n",
    "# Tanh (Hyperbolic Tangent) Function\n",
    "def tanh(x):\n",
    "    numerator = 1 - np.exp(-2*x)\n",
    "    denominator = 1 + np.exp(-2*x)\n",
    "    return numerator/denominator\n",
    "\n",
    "# ReLU (Rectified Linear Unit) Function\n",
    "def relu(x):\n",
    "    if x < 0:\n",
    "        return 0\n",
    "    else:\n",
    "        return x\n",
    "\n",
    "# Leaky ReLU Function:\n",
    "def leakyrelu(x,alpha = 0.01):\n",
    "    if x < 0:\n",
    "        return (alpha*x)\n",
    "    else: \n",
    "        return x\n",
    "\n",
    "# Exponential Linear Unit Function\n",
    "def ELU(x,alpha = 0.01):\n",
    "    if x < 0:\n",
    "        return (alpha * (np.exp)-1)\n",
    "    else:\n",
    "        return x\n",
    "\n",
    "# Swish Function\n",
    "def swish(x,beta):\n",
    "    return 2 * x * sigmoid(beta*x)\n",
    "\n",
    "# Softmax Function\n",
    "def softmax(x):\n",
    "    return np.exp(x)/np.exp(x).sum(axis = 0)"
   ]
  },
  {
   "cell_type": "code",
   "execution_count": null,
   "metadata": {},
   "outputs": [],
   "source": []
  }
 ],
 "metadata": {
  "kernelspec": {
   "display_name": "Python 3",
   "language": "python",
   "name": "python3"
  },
  "language_info": {
   "codemirror_mode": {
    "name": "ipython",
    "version": 3
   },
   "file_extension": ".py",
   "mimetype": "text/x-python",
   "name": "python",
   "nbconvert_exporter": "python",
   "pygments_lexer": "ipython3",
   "version": "3.7.3"
  }
 },
 "nbformat": 4,
 "nbformat_minor": 2
}
